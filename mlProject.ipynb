{
 "cells": [
  {
   "cell_type": "code",
   "execution_count": 2,
   "id": "bd9942d1-8c61-43ca-aeee-774ddbff1382",
   "metadata": {},
   "outputs": [],
   "source": [
    "import pandas as pd\n",
    "from sklearn.model_selection import train_test_split\n",
    "from sklearn.preprocessing import LabelEncoder\n",
    "from sklearn.neighbors import KNeighborsClassifier\n",
    "from sklearn.tree import DecisionTreeClassifier\n",
    "from sklearn.metrics import accuracy_score, f1_score, roc_auc_score\n",
    "import matplotlib.pyplot as plt\n"
   ]
  },
  {
   "cell_type": "code",
   "execution_count": 4,
   "id": "9379a8f7-7b09-4e35-ad03-c297d4e9a654",
   "metadata": {},
   "outputs": [],
   "source": [
    "data = pd.read_csv(r\"C:\\Users\\sanjay.b.s\\Downloads\\mlCie!\\heis_usa.csv\");"
   ]
  },
  {
   "cell_type": "code",
   "execution_count": 5,
   "id": "669e4309-f0bc-44cd-ad61-90b389323e81",
   "metadata": {},
   "outputs": [
    {
     "data": {
      "text/plain": [
       "<bound method NDFrame.head of           id        region                                               name  \\\n",
       "0     222178         Texas                       Abilene Christian University   \n",
       "1     497037         Texas  Abilene Christian University-Undergraduate Online   \n",
       "2     488031    California                         Abraham Lincoln University   \n",
       "3     172866     Minnesota                                    Academy College   \n",
       "4     108232    California                          Academy of Art University   \n",
       "...      ...           ...                                                ...   \n",
       "1973  181853      Nebraska                                       York College   \n",
       "1974  217059  Pennsylvania                       York College of Pennsylvania   \n",
       "1975  141361       Georgia                               Young Harris College   \n",
       "1976  206695          Ohio                        Youngstown State University   \n",
       "1977  458575    California                                    Zaytuna College   \n",
       "\n",
       "     category                                                url  \n",
       "0     Private                                       www.acu.edu/  \n",
       "1     Private  https://www.acu.edu/academics/online/undergrad...  \n",
       "2     Private                               https://www.alu.edu/  \n",
       "3     Private                            www.academycollege.edu/  \n",
       "4     Private                                www.academyart.edu/  \n",
       "...       ...                                                ...  \n",
       "1973  Private                                      www.york.edu/  \n",
       "1974  Private                                       www.ycp.edu/  \n",
       "1975  Private                                       www.yhc.edu/  \n",
       "1976   Public                                   https://ysu.edu/  \n",
       "1977  Private                               https://zaytuna.edu/  \n",
       "\n",
       "[1978 rows x 5 columns]>"
      ]
     },
     "execution_count": 5,
     "metadata": {},
     "output_type": "execute_result"
    }
   ],
   "source": [
    "data.head\n"
   ]
  },
  {
   "cell_type": "code",
   "execution_count": 6,
   "id": "7a024d4d-13de-488e-aa59-e43698f2f191",
   "metadata": {},
   "outputs": [],
   "source": [
    "df = pd.DataFrame(data)"
   ]
  },
  {
   "cell_type": "code",
   "execution_count": 8,
   "id": "2301a2ea-6f17-47bc-8231-f988cb3f94b7",
   "metadata": {},
   "outputs": [],
   "source": [
    "# --- Step 2: Encode Categorical Variables ---\n",
    "le_region = LabelEncoder()\n",
    "le_category = LabelEncoder()\n",
    "df['Region_encoded'] = le_region.fit_transform(df['region'])\n",
    "df['Category_encoded'] = le_category.fit_transform(df['category'])  # Target\n"
   ]
  },
  {
   "cell_type": "code",
   "execution_count": 9,
   "id": "93d08b9c-d51f-4cfe-b51a-b01bb4485b05",
   "metadata": {},
   "outputs": [],
   "source": [
    "# --- Step 3: Define Features and Target ---\n",
    "X = df[['Region_encoded']]\n",
    "y = df['Category_encoded']  # 0 = Public, 1 = Private\n"
   ]
  },
  {
   "cell_type": "code",
   "execution_count": 20,
   "id": "8ac2b60e-e734-45f1-a4c4-618de2bd59a5",
   "metadata": {},
   "outputs": [],
   "source": [
    "# --- Step 4: Split Data ---\n",
    "X_train, X_test, y_train, y_test = train_test_split(X, y, test_size=0.5, random_state=42)\n"
   ]
  },
  {
   "cell_type": "code",
   "execution_count": 21,
   "id": "9cf0a7d7-47ca-459a-9f29-6b22947121f5",
   "metadata": {},
   "outputs": [],
   "source": [
    "# --- Step 5: KNN Model ---\n",
    "knn = KNeighborsClassifier(n_neighbors=3)\n",
    "knn.fit(X_train, y_train)\n",
    "y_pred_knn = knn.predict(X_test)\n",
    "knn_acc = accuracy_score(y_test, y_pred_knn)\n",
    "knn_f1 = f1_score(y_test, y_pred_knn)\n",
    "knn_auc = roc_auc_score(y_test, knn.predict_proba(X_test)[:, 1])\n"
   ]
  },
  {
   "cell_type": "code",
   "execution_count": 22,
   "id": "0b634c8d-7e61-46de-98bf-a07ad046436f",
   "metadata": {},
   "outputs": [],
   "source": [
    "# --- Step 6: Decision Tree Model ---\n",
    "dt = DecisionTreeClassifier()\n",
    "dt.fit(X_train, y_train)\n",
    "y_pred_dt = dt.predict(X_test)\n",
    "dt_acc = accuracy_score(y_test, y_pred_dt)\n",
    "dt_f1 = f1_score(y_test, y_pred_dt)\n",
    "dt_auc = roc_auc_score(y_test, dt.predict_proba(X_test)[:, 1])\n"
   ]
  },
  {
   "cell_type": "code",
   "execution_count": 23,
   "id": "c9974d0b-5a25-43c7-9f9a-320336ac68f0",
   "metadata": {},
   "outputs": [
    {
     "name": "stdout",
     "output_type": "stream",
     "text": [
      "=== KNN Evaluation ===\n",
      "KNN Metrics:\n",
      "  Accuracy: 0.70\n",
      "  F1 Score: 0.25\n",
      "  AUC Score: 0.55\n"
     ]
    }
   ],
   "source": [
    "print(\"=== KNN Evaluation ===\")\n",
    "print(\"KNN Metrics:\")\n",
    "print(f\"  Accuracy: {knn_acc:.2f}\")\n",
    "print(f\"  F1 Score: {knn_f1:.2f}\")\n",
    "print(f\"  AUC Score: {knn_auc:.2f}\")"
   ]
  },
  {
   "cell_type": "code",
   "execution_count": 24,
   "id": "95cb252b-74f5-4e44-9ca4-f815b2faa815",
   "metadata": {},
   "outputs": [
    {
     "name": "stdout",
     "output_type": "stream",
     "text": [
      "\n",
      "=== Decision Tree ===\n",
      "Decision Tree Metrics:\n",
      "  Accuracy: 0.70\n",
      "  F1 Score: 0.15\n",
      "  AUC Score: 0.57\n"
     ]
    }
   ],
   "source": [
    "print(\"\\n=== Decision Tree ===\")\n",
    "print(\"Decision Tree Metrics:\")\n",
    "print(f\"  Accuracy: {dt_acc:.2f}\")\n",
    "print(f\"  F1 Score: {dt_f1:.2f}\")\n",
    "print(f\"  AUC Score: {dt_auc:.2f}\")"
   ]
  },
  {
   "cell_type": "code",
   "execution_count": 25,
   "id": "617cc5c7-3bf3-419e-a947-e6ba556435af",
   "metadata": {},
   "outputs": [],
   "source": [
    "# --- Step 7: Visualization ---\n",
    "labels = ['Accuracy', 'F1 Score', 'AUC']\n",
    "knn_metrics = [knn_acc, knn_f1, knn_auc]\n",
    "dt_metrics = [dt_acc, dt_f1, dt_auc]\n"
   ]
  },
  {
   "cell_type": "code",
   "execution_count": 26,
   "id": "0052e5c9-28c3-4dcc-ace0-452e66315ad2",
   "metadata": {},
   "outputs": [
    {
     "data": {
      "image/png": "[encoded data removed]",
      "text/plain": [
       "<Figure size 800x500 with 1 Axes>"
      ]
     },
     "metadata": {},
     "output_type": "display_data"
    }
   ],
   "source": [
    "x = range(len(labels))\n",
    "width = 0.35\n",
    "\n",
    "plt.figure(figsize=(8, 5))\n",
    "plt.bar([i - width/2 for i in x], knn_metrics, width=width, label='KNN', color='blue')\n",
    "plt.bar([i + width/2 for i in x], dt_metrics, width=width, label='Decision Tree', color='green')\n",
    "plt.xticks(ticks=x, labels=labels)\n",
    "plt.ylim(0, 1)\n",
    "plt.ylabel('Score')\n",
    "plt.title('Model Performance Comparison')\n",
    "plt.legend()\n",
    "plt.tight_layout()\n",
    "plt.show()"
   ]
  },
  {
   "cell_type": "code",
   "execution_count": null,
   "id": "79be8b1b-8590-4b6c-8824-2782fc8d3c0c",
   "metadata": {},
   "outputs": [],
   "source": []
  }
 ],
 "metadata": {
  "kernelspec": {
   "display_name": "Python 3 (ipykernel)",
   "language": "python",
   "name": "python3"
  },
  "language_info": {
   "codemirror_mode": {
    "name": "ipython",
    "version": 3
   },
   "file_extension": ".py",
   "mimetype": "text/x-python",
   "name": "python",
   "nbconvert_exporter": "python",
   "pygments_lexer": "ipython3",
   "version": "3.8.10"
  }
 },
 "nbformat": 4,
 "nbformat_minor": 5
}
